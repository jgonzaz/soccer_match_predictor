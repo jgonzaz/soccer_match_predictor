{
 "cells": [
  {
   "cell_type": "markdown",
   "source": [
    "Importing necessary packages"
   ],
   "metadata": {
    "collapsed": false
   },
   "id": "b3b717de2f5c1c3"
  },
  {
   "cell_type": "code",
   "outputs": [],
   "source": [
    "import pandas \n",
    "import requests\n",
    "from bs4 import BeautifulSoup\n",
    "import json "
   ],
   "metadata": {
    "collapsed": false
   },
   "id": "18a4e755f5039cf0"
  },
  {
   "cell_type": "code",
   "execution_count": null,
   "id": "initial_id",
   "metadata": {
    "collapsed": true
   },
   "outputs": [],
   "source": []
  },
  {
   "cell_type": "markdown",
   "source": [],
   "metadata": {
    "collapsed": false
   },
   "id": "444fb09053ffc853"
  }
 ],
 "metadata": {
  "kernelspec": {
   "display_name": "Python 3",
   "language": "python",
   "name": "python3"
  },
  "language_info": {
   "codemirror_mode": {
    "name": "ipython",
    "version": 2
   },
   "file_extension": ".py",
   "mimetype": "text/x-python",
   "name": "python",
   "nbconvert_exporter": "python",
   "pygments_lexer": "ipython2",
   "version": "2.7.6"
  }
 },
 "nbformat": 4,
 "nbformat_minor": 5
}
